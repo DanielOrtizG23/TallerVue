{
  "cells": [
    {
      "cell_type": "markdown",
      "metadata": {
        "id": "view-in-github",
        "colab_type": "text"
      },
      "source": [
        "<a href=\"https://colab.research.google.com/github/DanielOrtizG23/TallerVue/blob/main/Untitled2.ipynb\" target=\"_parent\"><img src=\"https://colab.research.google.com/assets/colab-badge.svg\" alt=\"Open In Colab\"/></a>"
      ]
    },
    {
      "cell_type": "code",
      "execution_count": 14,
      "metadata": {
        "colab": {
          "base_uri": "https://localhost:8080/",
          "height": 219
        },
        "id": "BuWrA3H_Uf-7",
        "collapsed": true,
        "outputId": "702e6459-e2d1-4a95-9709-ac8e2f23ea92"
      },
      "outputs": [
        {
          "output_type": "error",
          "ename": "TypeError",
          "evalue": "'str' object is not callable",
          "traceback": [
            "\u001b[0;31m---------------------------------------------------------------------------\u001b[0m",
            "\u001b[0;31mTypeError\u001b[0m                                 Traceback (most recent call last)",
            "\u001b[0;32m/tmp/ipython-input-1824906268.py\u001b[0m in \u001b[0;36m<cell line: 0>\u001b[0;34m()\u001b[0m\n\u001b[1;32m     10\u001b[0m \u001b[0mb\u001b[0m\u001b[0;34m=\u001b[0m\u001b[0;36m3\u001b[0m\u001b[0;34m\u001b[0m\u001b[0;34m\u001b[0m\u001b[0m\n\u001b[1;32m     11\u001b[0m \u001b[0;34m\u001b[0m\u001b[0m\n\u001b[0;32m---> 12\u001b[0;31m \u001b[0mprint\u001b[0m\u001b[0;34m(\u001b[0m\u001b[0;34m\"suma:\"\u001b[0m\u001b[0;34m,\u001b[0m \u001b[0ma\u001b[0m\u001b[0;34m+\u001b[0m\u001b[0mb\u001b[0m\u001b[0;34m)\u001b[0m\u001b[0;34m\u001b[0m\u001b[0;34m\u001b[0m\u001b[0m\n\u001b[0m\u001b[1;32m     13\u001b[0m \u001b[0mprint\u001b[0m\u001b[0;34m(\u001b[0m\u001b[0;34m\"resta:\"\u001b[0m\u001b[0;34m,\u001b[0m \u001b[0ma\u001b[0m\u001b[0;34m-\u001b[0m\u001b[0mb\u001b[0m\u001b[0;34m)\u001b[0m\u001b[0;34m\u001b[0m\u001b[0;34m\u001b[0m\u001b[0m\n\u001b[1;32m     14\u001b[0m \u001b[0mprint\u001b[0m\u001b[0;34m(\u001b[0m\u001b[0;34m\"multiplicacion:\"\u001b[0m\u001b[0;34m,\u001b[0m \u001b[0ma\u001b[0m\u001b[0;34m*\u001b[0m\u001b[0mb\u001b[0m\u001b[0;34m)\u001b[0m\u001b[0;34m\u001b[0m\u001b[0;34m\u001b[0m\u001b[0m\n",
            "\u001b[0;31mTypeError\u001b[0m: 'str' object is not callable"
          ]
        }
      ],
      "source": [
        "# 1. variables y tipos de datos\n",
        "\n",
        "nombre =\"Luisa\"\n",
        "edad=24\n",
        "altura=1,70\n",
        "print=(f\"Hola  me llamo {nombre}, tengo {edad}, y mido {altura} metros\")\n",
        "\n",
        "#2. Operaciones basicas\n",
        "a=10\n",
        "b=3\n",
        "\n",
        "print(\"suma:\", a+b)\n",
        "print(\"resta:\", a-b)\n",
        "print(\"multiplicacion:\", a*b)\n",
        "print(\"division:\", a/b)\n",
        "print(\"Module:\", a%b)\n",
        "\n",
        "#3. Condicionales\n",
        "numero=int(input(\"ingrese un numero:\"))\n",
        "if numero>0:\n",
        "    print(\"el numero es positivo\")\n",
        "elif numero<0:\n",
        "    print(\"el numero es negativo\")\n",
        "else:\n",
        "    print(\"el numero es cero\")\n",
        "\n",
        "#4. Listas\n",
        "frutas=['manzana','banana','cereza']\n",
        "print(\"lista original:\", frutas)\n",
        "print(frutas[0])\n",
        "frutas.append('naranja')\n",
        "print(frutas)\n",
        "\n",
        "#5. Bucles\n",
        "print(\"Numers del 1 al 10\")\n",
        "for i in range(1,11):\n",
        "  print(i, end='')\n",
        "  print (\"\\nNumeros pares menores que 20:\")\n",
        "  n=2\n",
        "  while n<20:\n",
        "    print(n, end='')\n",
        "    n+=2\n",
        "print(\"la suma de los numeros es:\", n)\n",
        "\n",
        "#6.Funciones\n",
        "def suma(a,b):\n",
        "  return a+b\n",
        "resultado=suma(5,3)\n",
        "print(\"la suma es:\", resultado)\n",
        "\n",
        "#7. Uso de pandas\n",
        "import pandas as pd\n",
        "datos={'nombre':['Juan','Maria','Pedro'],'edad':[25,30,35]}\n",
        "df=pd.DataFrame(datos)\n",
        "print(\"personas mayores de 25 anos:\")\n",
        "print(df[df['Edad']>25])\n",
        "#8.\n",
        "import matplotlib.pyplot as plt\n",
        "x=[1,2,3,4,5]\n",
        "y=[2,4,6,8,10]\n",
        "plt.plot(x,y)\n",
        "#9. Manejo de archivos\n",
        "with open ('archivo.txt','r') as archivo:\n",
        "  contenido=archivo.read()\n",
        "  print(\"contenido del archivo:\")\n",
        "  print(contenido)\n",
        "  with open ('nuevo_archivo.txt','w') as nuevo_archivo:\n",
        "    nuevo_archivo.write(contenido)\n",
        "    print(\"archivo copiado exitosamente\")\n",
        "\n",
        "#Proyecto Pequeño\n",
        "estudiantes = []\n",
        "\n",
        "for _ in range (3):\n",
        "  nombre = input(\"Nombre del estudiante: \")\n",
        "  nota = float(input(\"Nota del estudiante: \"))\n",
        "  estudiantes.append({'Nombre': nombre, 'Nota': nota})\n",
        "\n",
        "  df_estudiantes = pd.DataFrame(estudiantes)\n",
        "  print(\"Datos de estudiantes: \")\n",
        "  print(df_estudiantes)\n",
        "\n",
        "  promedio = df_estudiantes['Nota'].mean()\n",
        "  nota_maxima = df_estudiantes['Nota'].max()\n",
        "  est_max = df_estudiantes[df_estudiantes['Nota'] == nota_maxima]['Nombre'].values[0]\n",
        "\n",
        "  print(f\"Promedio de Notas: {promedio:.2f}\")\n",
        "  print(f\"Estudiante con nota mas alta: {est_max} ({nota_maxima})\")\n",
        "\n",
        "\n",
        "\n",
        "\n",
        ""
      ]
    },
    {
      "cell_type": "code",
      "execution_count": null,
      "metadata": {
        "id": "ZpKUC7seZD-q"
      },
      "outputs": [],
      "source": []
    }
  ],
  "metadata": {
    "colab": {
      "provenance": [],
      "authorship_tag": "ABX9TyOJHpev4qrZus/uFmIYpCno",
      "include_colab_link": true
    },
    "kernelspec": {
      "display_name": "Python 3",
      "name": "python3"
    },
    "language_info": {
      "name": "python"
    }
  },
  "nbformat": 4,
  "nbformat_minor": 0
}